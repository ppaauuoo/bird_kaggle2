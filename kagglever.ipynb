{
 "cells": [
  {
   "cell_type": "code",
   "execution_count": 1,
   "id": "342f1e55",
   "metadata": {},
   "outputs": [],
   "source": [
    "import matplotlib.pyplot as plt\n",
    "import numpy as np\n",
    "import PIL\n",
    "import tensorflow as tf\n",
    "\n",
    "from tensorflow import keras\n",
    "from tensorflow.keras import layers\n",
    "from tensorflow.keras.models import Sequential\n",
    "\n",
    "\n",
    "import numpy as np # linear algebra\n",
    "import pandas as pd # data processing, CSV file I/O (e.g. pd.read_csv)"
   ]
  },
  {
   "cell_type": "code",
   "execution_count": 2,
   "id": "87d13690",
   "metadata": {},
   "outputs": [
    {
     "name": "stdout",
     "output_type": "stream",
     "text": [
      "Found 806 files belonging to 5 classes.\n",
      "Using 645 files for training.\n"
     ]
    }
   ],
   "source": [
    "batch_size = 10\n",
    "img_height = 200\n",
    "img_width = 200\n",
    "data_dir = './extracttrain'\n",
    "\n",
    "#selected_class_names = ['COCKATOO', 'SCARLET MACAW', 'BLACK HEADED CAIQUE', 'RING-NECKED PHEASANT' 'GOLDEN PARAKEET']\n",
    "\n",
    "\n",
    "\n",
    "train_ds = tf.keras.utils.image_dataset_from_directory(\n",
    "  data_dir,\n",
    "  validation_split=0.2,\n",
    "  subset=\"training\",\n",
    "  seed=123,\n",
    "  image_size=(img_height, img_width),\n",
    "  batch_size=batch_size,\n",
    ")\n",
    "\n",
    "\n"
   ]
  },
  {
   "cell_type": "code",
   "execution_count": 3,
   "id": "66240954",
   "metadata": {},
   "outputs": [
    {
     "name": "stdout",
     "output_type": "stream",
     "text": [
      "Found 25 files belonging to 5 classes.\n",
      "Using 5 files for validation.\n"
     ]
    }
   ],
   "source": [
    "data_dir = './extractvalid'\n",
    "val_ds = tf.keras.utils.image_dataset_from_directory(\n",
    "  data_dir,\n",
    "  validation_split=0.2,\n",
    "  subset=\"validation\",\n",
    "  seed=123,\n",
    "  image_size=(img_height, img_width),\n",
    "  batch_size=batch_size)\n"
   ]
  },
  {
   "cell_type": "code",
   "execution_count": 4,
   "id": "4244ad61",
   "metadata": {},
   "outputs": [
    {
     "name": "stdout",
     "output_type": "stream",
     "text": [
      "['BLACK HEADED CAIQUE', 'COCKATOO', 'GOLDEN PARAKEET', 'RING-NECKED PHEASANT', 'SCARLET MACAW']\n"
     ]
    }
   ],
   "source": [
    "class_names = train_ds.class_names\n",
    "print(class_names)\n"
   ]
  },
  {
   "cell_type": "code",
   "execution_count": 5,
   "id": "5f9d7e96",
   "metadata": {},
   "outputs": [],
   "source": [
    "# import matplotlib.pyplot as plt\n",
    "\n",
    "# plt.figure(figsize=(10, 10))\n",
    "# for images, labels in train_ds.take(1):\n",
    "#   for i in range(9):\n",
    "#     ax = plt.subplot(3, 3, i + 1)\n",
    "#     plt.imshow(images[i].numpy().astype(\"uint8\"))\n",
    "#     plt.title(class_names[labels[i]])\n",
    "#     plt.axis(\"off\")\n"
   ]
  },
  {
   "cell_type": "code",
   "execution_count": 6,
   "id": "4caebb9f",
   "metadata": {},
   "outputs": [],
   "source": [
    "# for image_batch, labels_batch in train_ds:\n",
    "#   print(image_batch.shape)\n",
    "#   print(labels_batch.shape)\n",
    "#   break\n"
   ]
  },
  {
   "cell_type": "code",
   "execution_count": 7,
   "id": "0b1f5958",
   "metadata": {},
   "outputs": [],
   "source": [
    "AUTOTUNE = tf.data.AUTOTUNE\n",
    "\n",
    "train_ds = train_ds.cache().shuffle(1000).prefetch(buffer_size=AUTOTUNE)\n",
    "val_ds = val_ds.cache().prefetch(buffer_size=AUTOTUNE)\n"
   ]
  },
  {
   "cell_type": "code",
   "execution_count": 8,
   "id": "55bf2909",
   "metadata": {},
   "outputs": [],
   "source": [
    "num_classes = len(class_names)\n",
    "\n",
    "model = Sequential([\n",
    "  layers.Rescaling(1./255, input_shape=(img_height, img_width, 3)), # [0,256] -> [0,1]\n",
    "  layers.Conv2D(16, 3, padding='same', activation='relu'),\n",
    "  layers.MaxPooling2D(),\n",
    "  layers.Conv2D(32, 3, padding='same', activation='relu'),\n",
    "  layers.MaxPooling2D(),\n",
    "  layers.Conv2D(64, 3, padding='same', activation='relu'),\n",
    "  layers.MaxPooling2D(),\n",
    "  layers.Flatten(),\n",
    "  layers.Dense(128, activation='relu'),\n",
    "  layers.Dense(64, activation='relu'),\n",
    "  layers.Dense(32, activation='relu'),\n",
    "  layers.Dense(16, activation='relu'),\n",
    "  layers.Dense(8, activation='relu'),\n",
    "  layers.Dense(num_classes)\n",
    "])\n"
   ]
  },
  {
   "cell_type": "code",
   "execution_count": 9,
   "id": "e3817689",
   "metadata": {},
   "outputs": [],
   "source": [
    "model.compile(optimizer='adam',\n",
    "              loss=tf.keras.losses.SparseCategoricalCrossentropy(from_logits=True),\n",
    "              metrics=['accuracy'])\n"
   ]
  },
  {
   "cell_type": "code",
   "execution_count": 10,
   "id": "20828e9c",
   "metadata": {},
   "outputs": [
    {
     "name": "stdout",
     "output_type": "stream",
     "text": [
      "Model: \"sequential\"\n",
      "_________________________________________________________________\n",
      " Layer (type)                Output Shape              Param #   \n",
      "=================================================================\n",
      " rescaling (Rescaling)       (None, 200, 200, 3)       0         \n",
      "                                                                 \n",
      " conv2d (Conv2D)             (None, 200, 200, 16)      448       \n",
      "                                                                 \n",
      " max_pooling2d (MaxPooling2  (None, 100, 100, 16)      0         \n",
      " D)                                                              \n",
      "                                                                 \n",
      " conv2d_1 (Conv2D)           (None, 100, 100, 32)      4640      \n",
      "                                                                 \n",
      " max_pooling2d_1 (MaxPoolin  (None, 50, 50, 32)        0         \n",
      " g2D)                                                            \n",
      "                                                                 \n",
      " conv2d_2 (Conv2D)           (None, 50, 50, 64)        18496     \n",
      "                                                                 \n",
      " max_pooling2d_2 (MaxPoolin  (None, 25, 25, 64)        0         \n",
      " g2D)                                                            \n",
      "                                                                 \n",
      " flatten (Flatten)           (None, 40000)             0         \n",
      "                                                                 \n",
      " dense (Dense)               (None, 128)               5120128   \n",
      "                                                                 \n",
      " dense_1 (Dense)             (None, 64)                8256      \n",
      "                                                                 \n",
      " dense_2 (Dense)             (None, 32)                2080      \n",
      "                                                                 \n",
      " dense_3 (Dense)             (None, 16)                528       \n",
      "                                                                 \n",
      " dense_4 (Dense)             (None, 8)                 136       \n",
      "                                                                 \n",
      " dense_5 (Dense)             (None, 5)                 45        \n",
      "                                                                 \n",
      "=================================================================\n",
      "Total params: 5154757 (19.66 MB)\n",
      "Trainable params: 5154757 (19.66 MB)\n",
      "Non-trainable params: 0 (0.00 Byte)\n",
      "_________________________________________________________________\n"
     ]
    }
   ],
   "source": [
    "model.summary()\n"
   ]
  },
  {
   "cell_type": "code",
   "execution_count": null,
   "id": "deca8ed2-784c-44f2-b895-12a53e5ef4d1",
   "metadata": {},
   "outputs": [],
   "source": [
    "callback = tf.keras.callbacks.EarlyStopping(monitor='loss', patience=3)\n",
    "#callbacks=[callback]"
   ]
  },
  {
   "cell_type": "code",
   "execution_count": 11,
   "id": "716cd80c",
   "metadata": {
    "scrolled": true
   },
   "outputs": [
    {
     "name": "stdout",
     "output_type": "stream",
     "text": [
      "Epoch 1/20\n",
      "65/65 [==============================] - 13s 187ms/step - loss: 1.4575 - accuracy: 0.3643 - val_loss: 0.8971 - val_accuracy: 0.6000\n",
      "Epoch 2/20\n",
      "65/65 [==============================] - 12s 182ms/step - loss: 0.9595 - accuracy: 0.5380 - val_loss: 0.6023 - val_accuracy: 0.8000\n",
      "Epoch 3/20\n",
      "65/65 [==============================] - 12s 181ms/step - loss: 0.7242 - accuracy: 0.6977 - val_loss: 0.4203 - val_accuracy: 0.8000\n",
      "Epoch 4/20\n",
      "65/65 [==============================] - 12s 179ms/step - loss: 0.5010 - accuracy: 0.8233 - val_loss: 0.0743 - val_accuracy: 1.0000\n",
      "Epoch 5/20\n",
      "65/65 [==============================] - 12s 179ms/step - loss: 0.2861 - accuracy: 0.9147 - val_loss: 0.0481 - val_accuracy: 1.0000\n",
      "Epoch 6/20\n",
      "65/65 [==============================] - 12s 178ms/step - loss: 0.1543 - accuracy: 0.9643 - val_loss: 0.2358 - val_accuracy: 1.0000\n",
      "Epoch 7/20\n",
      "65/65 [==============================] - 12s 179ms/step - loss: 0.1156 - accuracy: 0.9736 - val_loss: 0.0344 - val_accuracy: 1.0000\n",
      "Epoch 8/20\n",
      "65/65 [==============================] - 13s 192ms/step - loss: 0.0415 - accuracy: 0.9876 - val_loss: 0.0016 - val_accuracy: 1.0000\n",
      "Epoch 9/20\n",
      "65/65 [==============================] - 12s 187ms/step - loss: 0.1300 - accuracy: 0.9535 - val_loss: 0.0246 - val_accuracy: 1.0000\n",
      "Epoch 10/20\n",
      "65/65 [==============================] - 12s 185ms/step - loss: 0.0650 - accuracy: 0.9798 - val_loss: 9.2088e-04 - val_accuracy: 1.0000\n",
      "Epoch 11/20\n",
      "65/65 [==============================] - 13s 197ms/step - loss: 0.0100 - accuracy: 0.9984 - val_loss: 5.9593e-04 - val_accuracy: 1.0000\n",
      "Epoch 12/20\n",
      "65/65 [==============================] - 14s 210ms/step - loss: 0.0080 - accuracy: 0.9984 - val_loss: 4.6637e-04 - val_accuracy: 1.0000\n",
      "Epoch 13/20\n",
      "65/65 [==============================] - 12s 191ms/step - loss: 0.0318 - accuracy: 0.9860 - val_loss: 0.0018 - val_accuracy: 1.0000\n",
      "Epoch 14/20\n",
      "65/65 [==============================] - 12s 185ms/step - loss: 0.0917 - accuracy: 0.9721 - val_loss: 0.0193 - val_accuracy: 1.0000\n",
      "Epoch 15/20\n",
      "65/65 [==============================] - 13s 200ms/step - loss: 0.0386 - accuracy: 0.9907 - val_loss: 0.0018 - val_accuracy: 1.0000\n",
      "Epoch 16/20\n",
      "65/65 [==============================] - 13s 195ms/step - loss: 0.0023 - accuracy: 1.0000 - val_loss: 5.0430e-04 - val_accuracy: 1.0000\n",
      "Epoch 17/20\n",
      "65/65 [==============================] - 12s 186ms/step - loss: 0.0068 - accuracy: 0.9969 - val_loss: 4.2917e-04 - val_accuracy: 1.0000\n",
      "Epoch 18/20\n",
      "65/65 [==============================] - 12s 186ms/step - loss: 6.5337e-04 - accuracy: 1.0000 - val_loss: 1.7895e-04 - val_accuracy: 1.0000\n",
      "Epoch 19/20\n",
      "65/65 [==============================] - 12s 185ms/step - loss: 2.8861e-04 - accuracy: 1.0000 - val_loss: 1.1871e-04 - val_accuracy: 1.0000\n",
      "Epoch 20/20\n",
      "65/65 [==============================] - 13s 201ms/step - loss: 2.1436e-04 - accuracy: 1.0000 - val_loss: 8.1171e-05 - val_accuracy: 1.0000\n"
     ]
    }
   ],
   "source": [
    "epochs=20\n",
    "history = model.fit(\n",
    "  train_ds,\n",
    "  validation_data=val_ds,\n",
    "  epochs=epochs\n",
    ")\n"
   ]
  },
  {
   "cell_type": "code",
   "execution_count": 12,
   "id": "309ac8d8",
   "metadata": {},
   "outputs": [
    {
     "data": {
      "image/png": "[encoded data removed]",
      "text/plain": [
       "<Figure size 800x400 with 2 Axes>"
      ]
     },
     "metadata": {},
     "output_type": "display_data"
    }
   ],
   "source": [
    "acc = history.history['accuracy']\n",
    "val_acc = history.history['val_accuracy']\n",
    "\n",
    "loss = history.history['loss']\n",
    "val_loss = history.history['val_loss']\n",
    "\n",
    "epochs_range = range(epochs)\n",
    "\n",
    "plt.figure(figsize=(8, 4))\n",
    "plt.subplot(1, 2, 1)\n",
    "plt.plot(epochs_range, acc, label='Training Accuracy')\n",
    "plt.plot(epochs_range, val_acc, label='Validation Accuracy')\n",
    "plt.legend(loc='lower right')\n",
    "plt.title('Training and Validation Accuracy')\n",
    "\n",
    "plt.subplot(1, 2, 2)\n",
    "plt.plot(epochs_range, loss, label='Training Loss')\n",
    "plt.plot(epochs_range, val_loss, label='Validation Loss')\n",
    "plt.legend(loc='upper right')\n",
    "plt.title('Training and Validation Loss')\n",
    "plt.show()\n",
    "\n",
    "\n",
    "\n"
   ]
  },
  {
   "cell_type": "code",
   "execution_count": 1,
   "id": "8783f5bf",
   "metadata": {},
   "outputs": [
    {
     "ename": "NameError",
     "evalue": "name 'img_height' is not defined",
     "output_type": "error",
     "traceback": [
      "\u001b[1;31m---------------------------------------------------------------------------\u001b[0m",
      "\u001b[1;31mNameError\u001b[0m                                 Traceback (most recent call last)",
      "Cell \u001b[1;32mIn[1], line 3\u001b[0m\n\u001b[0;32m      1\u001b[0m path\u001b[38;5;241m=\u001b[39m\u001b[38;5;124m'\u001b[39m\u001b[38;5;124mpredict_data/cockatoo.jpg\u001b[39m\u001b[38;5;124m'\u001b[39m\n\u001b[0;32m      2\u001b[0m \u001b[38;5;66;03m# path = tf.keras.utils.get_file('conure', origin=url)\u001b[39;00m\n\u001b[1;32m----> 3\u001b[0m target_size\u001b[38;5;241m=\u001b[39m(\u001b[43mimg_height\u001b[49m, img_width)\n\u001b[0;32m      4\u001b[0m img \u001b[38;5;241m=\u001b[39m tf\u001b[38;5;241m.\u001b[39mkeras\u001b[38;5;241m.\u001b[39mutils\u001b[38;5;241m.\u001b[39mload_img(\n\u001b[0;32m      5\u001b[0m     path,\n\u001b[0;32m      6\u001b[0m     grayscale\u001b[38;5;241m=\u001b[39m\u001b[38;5;28;01mFalse\u001b[39;00m,\n\u001b[1;32m   (...)\u001b[0m\n\u001b[0;32m     10\u001b[0m     keep_aspect_ratio\u001b[38;5;241m=\u001b[39m\u001b[38;5;28;01mFalse\u001b[39;00m\n\u001b[0;32m     11\u001b[0m )\n\u001b[0;32m     12\u001b[0m plt\u001b[38;5;241m.\u001b[39mimshow(img)\n",
      "\u001b[1;31mNameError\u001b[0m: name 'img_height' is not defined"
     ]
    }
   ],
   "source": [
    "path='predict_data/cockatoo.jpg'\n",
    "# path = tf.keras.utils.get_file('conure', origin=url)\n",
    "target_size=(img_height, img_width)\n",
    "img = tf.keras.utils.load_img(\n",
    "    path,\n",
    "    grayscale=False,\n",
    "    color_mode='rgb',\n",
    "    target_size=target_size,\n",
    "    interpolation='nearest',\n",
    "    keep_aspect_ratio=False\n",
    ")\n",
    "plt.imshow(img)\n",
    "\n",
    "img_array = tf.keras.utils.img_to_array(img)\n",
    "img_array = tf.expand_dims(img_array, 0) # Create a batch\n",
    "\n",
    "predictions = model.predict(img_array)\n",
    "score = tf.nn.softmax(predictions[0])\n",
    "\n",
    "\n",
    "print(\n",
    "    \"This image most likely belongs to {} with a {:.2f} percent confidence.\"\n",
    "    .format(class_names[np.argmax(score)], 100 * np.max(score))\n",
    ")\n",
    "\n",
    "\n",
    "\n",
    "\n",
    "\n"
   ]
  },
  {
   "cell_type": "code",
   "execution_count": 14,
   "id": "003fb701",
   "metadata": {},
   "outputs": [],
   "source": [
    "#3min fitting time\n",
    "\n",
    "model.save('Keras_AllBird_model.keras')\n",
    "# model = keras.models.load_model('100x100_Keras_Allbird_model.keras')\n"
   ]
  }
 ],
 "metadata": {
  "kernelspec": {
   "display_name": "Python 3 (ipykernel)",
   "language": "python",
   "name": "python3"
  },
  "language_info": {
   "codemirror_mode": {
    "name": "ipython",
    "version": 3
   },
   "file_extension": ".py",
   "mimetype": "text/x-python",
   "name": "python",
   "nbconvert_exporter": "python",
   "pygments_lexer": "ipython3",
   "version": "3.8.18"
  }
 },
 "nbformat": 4,
 "nbformat_minor": 5
}

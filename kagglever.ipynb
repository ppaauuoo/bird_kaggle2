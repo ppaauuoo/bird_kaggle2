{
 "cells": [
  {
   "cell_type": "code",
   "execution_count": 1,
   "id": "342f1e55",
   "metadata": {},
   "outputs": [],
   "source": [
    "import matplotlib.pyplot as plt\n",
    "import numpy as np\n",
    "import PIL\n",
    "import tensorflow as tf\n",
    "\n",
    "from tensorflow import keras\n",
    "from tensorflow.keras import layers\n",
    "from tensorflow.keras.models import Sequential\n",
    "\n",
    "\n",
    "import numpy as np # linear algebra\n",
    "import pandas as pd # data processing, CSV file I/O (e.g. pd.read_csv)"
   ]
  },
  {
   "cell_type": "code",
   "execution_count": 87,
   "id": "87d13690",
   "metadata": {},
   "outputs": [
    {
     "name": "stdout",
     "output_type": "stream",
     "text": [
      "Found 806 files belonging to 5 classes.\n",
      "Using 645 files for training.\n"
     ]
    }
   ],
   "source": [
    "batch_size = 10\n",
    "img_height = 200\n",
    "img_width = 200\n",
    "data_dir = './extracttrain'\n",
    "\n",
    "#selected_class_names = ['COCKATOO', 'SCARLET MACAW', 'BLACK HEADED CAIQUE', 'RING-NECKED PHEASANT' 'GOLDEN PARAKEET']\n",
    "\n",
    "\n",
    "\n",
    "train_ds = tf.keras.utils.image_dataset_from_directory(\n",
    "  data_dir,\n",
    "  validation_split=0.2,\n",
    "  subset=\"training\",\n",
    "  seed=123,\n",
    "  image_size=(img_height, img_width),\n",
    "  batch_size=batch_size,\n",
    "    shuffle=True,\n",
    "    color_mode='grayscale'\n",
    ")\n",
    "\n",
    "\n"
   ]
  },
  {
   "cell_type": "code",
   "execution_count": 88,
   "id": "66240954",
   "metadata": {},
   "outputs": [
    {
     "name": "stdout",
     "output_type": "stream",
     "text": [
      "Found 806 files belonging to 5 classes.\n",
      "Using 161 files for validation.\n"
     ]
    }
   ],
   "source": [
    "# data_dir = './extractvalid'\n",
    "val_ds = tf.keras.utils.image_dataset_from_directory(\n",
    "  data_dir,\n",
    "  validation_split=0.2,\n",
    "  subset=\"validation\",\n",
    "  seed=123,\n",
    "  image_size=(img_height, img_width),\n",
    "  batch_size=batch_size,\n",
    "    shuffle=True,\n",
    "    color_mode='grayscale'\n",
    ")\n"
   ]
  },
  {
   "cell_type": "code",
   "execution_count": 89,
   "id": "4244ad61",
   "metadata": {},
   "outputs": [
    {
     "name": "stdout",
     "output_type": "stream",
     "text": [
      "['BLACK HEADED CAIQUE', 'COCKATOO', 'GOLDEN PARAKEET', 'RING-NECKED PHEASANT', 'SCARLET MACAW']\n"
     ]
    }
   ],
   "source": [
    "class_names = train_ds.class_names\n",
    "print(class_names)\n"
   ]
  },
  {
   "cell_type": "code",
   "execution_count": 90,
   "id": "5f9d7e96",
   "metadata": {},
   "outputs": [],
   "source": [
    "# import matplotlib.pyplot as plt\n",
    "\n",
    "# plt.figure(figsize=(10, 10))\n",
    "# for images, labels in train_ds.take(1):\n",
    "#   for i in range(9):\n",
    "#     ax = plt.subplot(3, 3, i + 1)\n",
    "#     plt.imshow(images[i].numpy().astype(\"uint8\"))\n",
    "#     plt.title(class_names[labels[i]])\n",
    "#     plt.axis(\"off\")\n"
   ]
  },
  {
   "cell_type": "code",
   "execution_count": 91,
   "id": "4caebb9f",
   "metadata": {},
   "outputs": [],
   "source": [
    "# for image_batch, labels_batch in train_ds:\n",
    "#   print(image_batch.shape)\n",
    "#   print(labels_batch.shape)\n",
    "#   break\n"
   ]
  },
  {
   "cell_type": "code",
   "execution_count": 92,
   "id": "0b1f5958",
   "metadata": {},
   "outputs": [],
   "source": [
    "AUTOTUNE = tf.data.AUTOTUNE\n",
    "\n",
    "train_ds = train_ds.cache().shuffle(1000).prefetch(buffer_size=AUTOTUNE)\n",
    "val_ds = val_ds.cache().prefetch(buffer_size=AUTOTUNE)\n"
   ]
  },
  {
   "cell_type": "code",
   "execution_count": 130,
   "id": "55bf2909",
   "metadata": {},
   "outputs": [],
   "source": [
    "num_classes = len(class_names)\n",
    "\n",
    "model = Sequential([\n",
    "  layers.Rescaling(1./255, input_shape=(img_height, img_width,1)), # [0,256] -> [0,1]\n",
    "  layers.Conv2D(16, 3, padding='same', activation='relu'),\n",
    "  layers.MaxPooling2D(),\n",
    "  layers.Conv2D(32, 3, padding='same', activation='relu'),\n",
    "  layers.MaxPooling2D(),\n",
    "  layers.Conv2D(64, 3, padding='same', activation='relu'),\n",
    "  layers.MaxPooling2D(),\n",
    "  layers.Flatten(),\n",
    "    layers.Dropout(.1),\n",
    "  layers.Dense(254, activation='relu', kernel_regularizer='l1_l2'),\n",
    "  layers.Dense(num_classes)\n",
    "])\n"
   ]
  },
  {
   "cell_type": "code",
   "execution_count": 131,
   "id": "e3817689",
   "metadata": {},
   "outputs": [],
   "source": [
    "model.compile(optimizer='adam',\n",
    "              loss=tf.keras.losses.SparseCategoricalCrossentropy(from_logits=True),\n",
    "              metrics=['accuracy'])\n"
   ]
  },
  {
   "cell_type": "code",
   "execution_count": 132,
   "id": "20828e9c",
   "metadata": {},
   "outputs": [
    {
     "name": "stdout",
     "output_type": "stream",
     "text": [
      "Model: \"sequential_15\"\n",
      "_________________________________________________________________\n",
      " Layer (type)                Output Shape              Param #   \n",
      "=================================================================\n",
      " rescaling_15 (Rescaling)    (None, 200, 200, 1)       0         \n",
      "                                                                 \n",
      " conv2d_45 (Conv2D)          (None, 200, 200, 16)      160       \n",
      "                                                                 \n",
      " max_pooling2d_45 (MaxPooli  (None, 100, 100, 16)      0         \n",
      " ng2D)                                                           \n",
      "                                                                 \n",
      " conv2d_46 (Conv2D)          (None, 100, 100, 32)      4640      \n",
      "                                                                 \n",
      " max_pooling2d_46 (MaxPooli  (None, 50, 50, 32)        0         \n",
      " ng2D)                                                           \n",
      "                                                                 \n",
      " conv2d_47 (Conv2D)          (None, 50, 50, 64)        18496     \n",
      "                                                                 \n",
      " max_pooling2d_47 (MaxPooli  (None, 25, 25, 64)        0         \n",
      " ng2D)                                                           \n",
      "                                                                 \n",
      " flatten_15 (Flatten)        (None, 40000)             0         \n",
      "                                                                 \n",
      " dropout_15 (Dropout)        (None, 40000)             0         \n",
      "                                                                 \n",
      " dense_37 (Dense)            (None, 254)               10160254  \n",
      "                                                                 \n",
      " dense_38 (Dense)            (None, 5)                 1275      \n",
      "                                                                 \n",
      "=================================================================\n",
      "Total params: 10184825 (38.85 MB)\n",
      "Trainable params: 10184825 (38.85 MB)\n",
      "Non-trainable params: 0 (0.00 Byte)\n",
      "_________________________________________________________________\n"
     ]
    }
   ],
   "source": [
    "model.summary()\n"
   ]
  },
  {
   "cell_type": "code",
   "execution_count": 133,
   "id": "deca8ed2-784c-44f2-b895-12a53e5ef4d1",
   "metadata": {},
   "outputs": [],
   "source": [
    "callback = tf.keras.callbacks.EarlyStopping(monitor='loss', patience=3)\n",
    "#callbacks=[callback]"
   ]
  },
  {
   "cell_type": "code",
   "execution_count": 134,
   "id": "716cd80c",
   "metadata": {
    "scrolled": true
   },
   "outputs": [
    {
     "name": "stdout",
     "output_type": "stream",
     "text": [
      "Epoch 1/20\n",
      "65/65 [==============================] - 22s 330ms/step - loss: 81.8919 - accuracy: 0.1814 - val_loss: 15.9226 - val_accuracy: 0.2609\n",
      "Epoch 2/20\n",
      "65/65 [==============================] - 21s 320ms/step - loss: 14.7213 - accuracy: 0.1984 - val_loss: 14.7553 - val_accuracy: 0.2484\n",
      "Epoch 3/20\n",
      "65/65 [==============================] - 21s 321ms/step - loss: 14.3854 - accuracy: 0.2186 - val_loss: 14.2948 - val_accuracy: 0.2484\n",
      "Epoch 4/20\n",
      "65/65 [==============================] - 21s 322ms/step - loss: 14.2676 - accuracy: 0.2186 - val_loss: 13.9794 - val_accuracy: 0.2484\n",
      "Epoch 5/20\n",
      "65/65 [==============================] - 21s 323ms/step - loss: 14.1624 - accuracy: 0.2186 - val_loss: 14.1131 - val_accuracy: 0.2484\n",
      "Epoch 6/20\n",
      "65/65 [==============================] - 21s 325ms/step - loss: 14.0982 - accuracy: 0.1953 - val_loss: 14.3495 - val_accuracy: 0.2484\n",
      "Epoch 7/20\n",
      "65/65 [==============================] - 21s 323ms/step - loss: 14.0566 - accuracy: 0.2171 - val_loss: 14.2023 - val_accuracy: 0.2484\n",
      "Epoch 8/20\n",
      "65/65 [==============================] - 21s 320ms/step - loss: 14.0261 - accuracy: 0.2233 - val_loss: 13.9206 - val_accuracy: 0.2484\n",
      "Epoch 9/20\n",
      "65/65 [==============================] - 22s 331ms/step - loss: 13.9288 - accuracy: 0.2109 - val_loss: 13.9067 - val_accuracy: 0.1863\n",
      "Epoch 10/20\n",
      "65/65 [==============================] - 22s 332ms/step - loss: 14.0725 - accuracy: 0.2512 - val_loss: 14.3397 - val_accuracy: 0.1925\n",
      "Epoch 11/20\n",
      "65/65 [==============================] - 21s 328ms/step - loss: 14.4584 - accuracy: 0.3271 - val_loss: 14.2901 - val_accuracy: 0.3913\n",
      "Epoch 12/20\n",
      "65/65 [==============================] - 21s 328ms/step - loss: 14.0377 - accuracy: 0.4109 - val_loss: 14.1551 - val_accuracy: 0.3106\n",
      "Epoch 13/20\n",
      "65/65 [==============================] - 21s 328ms/step - loss: 13.8914 - accuracy: 0.4434 - val_loss: 13.6584 - val_accuracy: 0.4845\n",
      "Epoch 14/20\n",
      "65/65 [==============================] - 21s 329ms/step - loss: 13.6967 - accuracy: 0.4868 - val_loss: 13.6872 - val_accuracy: 0.5901\n",
      "Epoch 15/20\n",
      "65/65 [==============================] - 22s 335ms/step - loss: 13.6703 - accuracy: 0.5023 - val_loss: 13.4208 - val_accuracy: 0.5528\n",
      "Epoch 16/20\n",
      "65/65 [==============================] - 23s 347ms/step - loss: 13.5464 - accuracy: 0.5550 - val_loss: 13.6169 - val_accuracy: 0.5404\n",
      "Epoch 17/20\n",
      "65/65 [==============================] - 22s 337ms/step - loss: 13.5225 - accuracy: 0.5705 - val_loss: 13.4657 - val_accuracy: 0.5590\n",
      "Epoch 18/20\n",
      "65/65 [==============================] - 21s 330ms/step - loss: 13.3364 - accuracy: 0.6016 - val_loss: 13.5565 - val_accuracy: 0.5901\n",
      "Epoch 19/20\n",
      "65/65 [==============================] - 21s 328ms/step - loss: 13.2679 - accuracy: 0.6388 - val_loss: 13.5259 - val_accuracy: 0.5093\n",
      "Epoch 20/20\n",
      "65/65 [==============================] - 21s 331ms/step - loss: 13.2048 - accuracy: 0.6744 - val_loss: 13.1980 - val_accuracy: 0.6087\n"
     ]
    }
   ],
   "source": [
    "epochs=20\n",
    "history = model.fit(\n",
    "  train_ds,\n",
    "  validation_data=val_ds,\n",
    "  epochs=epochs\n",
    ")\n"
   ]
  },
  {
   "cell_type": "code",
   "execution_count": 135,
   "id": "309ac8d8",
   "metadata": {},
   "outputs": [
    {
     "data": {
      "image/png": "[encoded data removed]",
      "text/plain": [
       "<Figure size 800x400 with 2 Axes>"
      ]
     },
     "metadata": {},
     "output_type": "display_data"
    }
   ],
   "source": [
    "acc = history.history['accuracy']\n",
    "val_acc = history.history['val_accuracy']\n",
    "\n",
    "loss = history.history['loss']\n",
    "val_loss = history.history['val_loss']\n",
    "\n",
    "epochs_range = range(epochs)\n",
    "\n",
    "plt.figure(figsize=(8, 4))\n",
    "plt.subplot(1, 2, 1)\n",
    "plt.plot(epochs_range, acc, label='Training Accuracy')\n",
    "plt.plot(epochs_range, val_acc, label='Validation Accuracy')\n",
    "plt.legend(loc='lower right')\n",
    "plt.title('Training and Validation Accuracy')\n",
    "\n",
    "plt.subplot(1, 2, 2)\n",
    "plt.plot(epochs_range, loss, label='Training Loss')\n",
    "plt.plot(epochs_range, val_loss, label='Validation Loss')\n",
    "plt.legend(loc='upper right')\n",
    "plt.title('Training and Validation Loss')\n",
    "plt.show()\n",
    "\n",
    "\n",
    "\n"
   ]
  },
  {
   "cell_type": "code",
   "execution_count": null,
   "id": "8783f5bf",
   "metadata": {},
   "outputs": [],
   "source": [
    "path='predict_data/conure.jpg'\n",
    "# path = tf.keras.utils.get_file('conure', origin=url)\n",
    "target_size=(img_height, img_width)\n",
    "img = tf.keras.utils.load_img(\n",
    "    path,\n",
    "    grayscale=False,\n",
    "    color_mode='grayscale',\n",
    "    target_size=target_size,\n",
    "    interpolation='nearest',\n",
    "    keep_aspect_ratio=False\n",
    ")\n",
    "plt.imshow(img)\n",
    "\n",
    "img_array = tf.keras.utils.img_to_array(img)\n",
    "img_array = tf.expand_dims(img_array, 0) # Create a batch\n",
    "\n",
    "predictions = model.predict(img_array)\n",
    "score = tf.nn.softmax(predictions[0])\n",
    "\n",
    "\n",
    "print(\n",
    "    \"This image most likely belongs to {} with a {:.2f} percent confidence.\"\n",
    "    .format(class_names[np.argmax(score)], 100 * np.max(score))\n",
    ")\n",
    "\n",
    "\n",
    "\n",
    "\n",
    "\n"
   ]
  },
  {
   "cell_type": "code",
   "execution_count": null,
   "id": "003fb701",
   "metadata": {},
   "outputs": [],
   "source": [
    "#3min fitting time\n",
    "\n",
    "model.save('Gray_Keras_AllBird_model.keras')\n",
    "# model = keras.models.load_model('100x100_Keras_Allbird_model.keras')\n"
   ]
  },
  {
   "cell_type": "code",
   "execution_count": null,
   "id": "dca7206a-767c-43d9-bec6-1a07ec324f50",
   "metadata": {},
   "outputs": [],
   "source": []
  }
 ],
 "metadata": {
  "kernelspec": {
   "display_name": "Python 3 (ipykernel)",
   "language": "python",
   "name": "python3"
  },
  "language_info": {
   "codemirror_mode": {
    "name": "ipython",
    "version": 3
   },
   "file_extension": ".py",
   "mimetype": "text/x-python",
   "name": "python",
   "nbconvert_exporter": "python",
   "pygments_lexer": "ipython3",
   "version": "3.8.18"
  }
 },
 "nbformat": 4,
 "nbformat_minor": 5
}
